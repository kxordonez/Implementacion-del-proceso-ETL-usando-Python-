{
 "cells": [
  {
   "cell_type": "markdown",
   "id": "1eca6871-38a7-406d-b801-069dd8bfe8bb",
   "metadata": {},
   "source": [
    "# IMPORTACIÓN DE LIBRERÍAS"
   ]
  },
  {
   "cell_type": "code",
   "execution_count": 1,
   "id": "dbc9a4e0-c9df-4a42-b13c-92fd5b01e2c4",
   "metadata": {},
   "outputs": [],
   "source": [
    "import glob\n",
    "import pandas as pd\n",
    "import xml.etree.ElementTree as ET\n",
    "from datetime import datetime\n",
    "import requests\n",
    "from zipfile import ZipFile"
   ]
  },
  {
   "cell_type": "markdown",
   "id": "99f61357-ede7-43c7-80ed-0134d36c5001",
   "metadata": {},
   "source": [
    "# DESCARGA DE ARCHIVOS"
   ]
  },
  {
   "cell_type": "code",
   "execution_count": 2,
   "id": "476581fc-b3f9-405b-9d0f-79ee9aaf8d63",
   "metadata": {},
   "outputs": [],
   "source": [
    "def get_data():\n",
    "    # Enlace de descarga de archivo\n",
    "    !wget http://cf-courses-data.s3.us.cloud-object-storage.appdomain.cloud/IBMDeveloperSkillsNetwork-PY0221EN-SkillsNetwork/labs/module%206/Lab%20-%20Extract%20Transform%20Load/data/datasource.zip\n",
    "    # Descomprimir el archivo\n",
    "    with ZipFile('datasource.zip', 'r') as zip:\n",
    "        zip.extractall('dealership_data')\n",
    "        print('Archivo descomprimido en el directorio dealership_data')"
   ]
  },
  {
   "cell_type": "markdown",
   "id": "57b0f032-d297-443b-b3b0-de413d41d798",
   "metadata": {},
   "source": [
    "# EXTRAER"
   ]
  },
  {
   "cell_type": "code",
   "execution_count": 3,
   "id": "c53f2338-9994-4d3c-80b5-d5c6670d0549",
   "metadata": {},
   "outputs": [],
   "source": [
    "#Función de extracción CSV\n",
    "def extract_from_csv(file_to_process): \n",
    "    dataframe = pd.read_csv(file_to_process) \n",
    "    return dataframe\n",
    "\n",
    "#Función de extracción JSON\n",
    "def extract_from_json(file_to_process):\n",
    "    dataframe = pd.read_json(file_to_process, lines=True)\n",
    "    return dataframe\n",
    "\n",
    "#Función de extracción XML\n",
    "def extract_from_xml(file_to_process):\n",
    "    dataframe = pd.DataFrame(columns=['car_model','year_of_manufacture','price', 'fuel'])\n",
    "    tree = ET.parse(file_to_process) \n",
    "    root = tree.getroot() \n",
    "    for person in root: \n",
    "        car_model = person.find(\"car_model\").text \n",
    "        year_of_manufacture = int(person.find(\"year_of_manufacture\").text)\n",
    "        price = float(person.find(\"price\").text) \n",
    "        fuel = person.find(\"fuel\").text \n",
    "        dataframe = dataframe.append({\"car_model\":car_model, \n",
    "                                      \"year_of_manufacture\":year_of_manufacture, \n",
    "                                      \"price\":price, \n",
    "                                      \"fuel\":fuel}, \n",
    "                                     ignore_index=True) \n",
    "    return dataframe"
   ]
  },
  {
   "cell_type": "markdown",
   "id": "c6b17727-660b-4d46-ad15-3fe3d0dc91da",
   "metadata": {},
   "source": [
    "## Función extraer"
   ]
  },
  {
   "cell_type": "code",
   "execution_count": 4,
   "id": "905fcd48-884e-4879-bb2a-bf69c4cd3718",
   "metadata": {},
   "outputs": [],
   "source": [
    "def extract():\n",
    "    extracted_data = pd.DataFrame(columns=['car_model','year_of_manufacture','price', 'fuel']) \n",
    "    #Para archivos csv\n",
    "    for csvfile in glob.glob(\"dealership_data/*.csv\"):\n",
    "        extracted_data = extracted_data.append(extract_from_csv(csvfile), ignore_index=True)\n",
    "    #Para archivos json\n",
    "    for jsonfile in glob.glob(\"dealership_data/*.json\"):\n",
    "        extracted_data = extracted_data.append(extract_from_json(jsonfile), ignore_index=True)\n",
    "    #Para archivos xml\n",
    "    for xmlfile in glob.glob(\"dealership_data/*.xml\"):\n",
    "        extracted_data = extracted_data.append(extract_from_xml(xmlfile), ignore_index=True)\n",
    "    return extracted_data"
   ]
  },
  {
   "cell_type": "markdown",
   "id": "c4746096-2b2e-403a-bdaf-c779b1f357fe",
   "metadata": {},
   "source": [
    "# TRANSFORMAR"
   ]
  },
  {
   "cell_type": "code",
   "execution_count": 5,
   "id": "a840706c-b46e-4cc1-bbe6-0f338cbd37b5",
   "metadata": {},
   "outputs": [],
   "source": [
    "def transform(data):\n",
    "    data['price'] = round(data.price, 2)\n",
    "    return data"
   ]
  },
  {
   "cell_type": "markdown",
   "id": "477a3437-3eab-4b05-9acc-0d5ec0ae7e46",
   "metadata": {},
   "source": [
    "# CARGAR"
   ]
  },
  {
   "cell_type": "code",
   "execution_count": 6,
   "id": "c6154d23-e6ed-4068-8a01-2fc9f2f921a5",
   "metadata": {},
   "outputs": [],
   "source": [
    "def load(targetfile,data_to_load):\n",
    "    data_to_load.to_csv(targetfile)"
   ]
  },
  {
   "cell_type": "markdown",
   "id": "cfdf95dc-59fa-4781-9d2d-c82ab36b1e20",
   "metadata": {},
   "source": [
    "## Ruta para los archivos de destino"
   ]
  },
  {
   "cell_type": "code",
   "execution_count": 7,
   "id": "9390fb0a-3ca7-434c-9a07-d1a1283284aa",
   "metadata": {},
   "outputs": [],
   "source": [
    "tmpfile    = \"dealership_temp.tmp\"               # Almacenar todos los datos extraídos\n",
    "logfile    = \"dealership_logfile.txt\"            # Todos los registros de eventos se almacenarán\n",
    "targetfile = \"dealership_transformed_data.csv\"   # Los datos transformados se almacenan"
   ]
  },
  {
   "cell_type": "markdown",
   "id": "00f23248-bf43-4bfe-a623-a7259ea5986f",
   "metadata": {},
   "source": [
    "## Registro de información actual"
   ]
  },
  {
   "cell_type": "code",
   "execution_count": 8,
   "id": "d1ef63c3-43b6-48ec-a9e8-fed89b18411b",
   "metadata": {},
   "outputs": [],
   "source": [
    "def log(message):\n",
    "    timestamp_format = '%H:%M:%S-%h-%d-%Y'\n",
    "    #Hour-Minute-Second-MonthName-Day-Year\n",
    "    now = datetime.now() # get current timestamp\n",
    "    timestamp = now.strftime(timestamp_format)\n",
    "    with open(\"dealership_logfile.txt\",\"a\") as f: f.write(timestamp + ',\\n' + message + ' \\n')"
   ]
  },
  {
   "cell_type": "markdown",
   "id": "3f0ddcd6-3957-47f4-a710-0eed5430c877",
   "metadata": {},
   "source": [
    "### Inicio de proceso ETL"
   ]
  },
  {
   "cell_type": "code",
   "execution_count": 9,
   "id": "69f14504-7196-4555-8c80-3aceec3519ab",
   "metadata": {},
   "outputs": [
    {
     "name": "stdout",
     "output_type": "stream",
     "text": [
      "--2022-01-12 22:59:03--  http://cf-courses-data.s3.us.cloud-object-storage.appdomain.cloud/IBMDeveloperSkillsNetwork-PY0221EN-SkillsNetwork/labs/module%206/Lab%20-%20Extract%20Transform%20Load/data/datasource.zip\n",
      "Resolving cf-courses-data.s3.us.cloud-object-storage.appdomain.cloud (cf-courses-data.s3.us.cloud-object-storage.appdomain.cloud)... 198.23.119.245\n",
      "Connecting to cf-courses-data.s3.us.cloud-object-storage.appdomain.cloud (cf-courses-data.s3.us.cloud-object-storage.appdomain.cloud)|198.23.119.245|:80... connected.\n",
      "HTTP request sent, awaiting response... 200 OK\n",
      "Length: 4249 (4.1K) [application/zip]\n",
      "Saving to: ‘datasource.zip’\n",
      "\n",
      "datasource.zip      100%[===================>]   4.15K  --.-KB/s    in 0s      \n",
      "\n",
      "2022-01-12 22:59:04 (123 MB/s) - ‘datasource.zip’ saved [4249/4249]\n",
      "\n",
      "Archivo descomprimido en el directorio dealership_data\n"
     ]
    }
   ],
   "source": [
    "log(\"Trabajo ETL iniciado\")\n",
    "log(\"Descargar datos de autos usados\")\n",
    "get_data()"
   ]
  },
  {
   "cell_type": "markdown",
   "id": "a498ff29-2d13-4786-a42c-73f846f80ef9",
   "metadata": {},
   "source": [
    "###  Inicio y finalización de fase de Extracción"
   ]
  },
  {
   "cell_type": "code",
   "execution_count": 10,
   "id": "882cb7c7-62d7-48ba-95a8-ea6178f3aceb",
   "metadata": {},
   "outputs": [],
   "source": [
    "log(\"Fase de extracción iniciada\")\n",
    "extracted_data = extract() \n",
    "log(\"Fase de extracción finalizada\")"
   ]
  },
  {
   "cell_type": "markdown",
   "id": "7d43bbd6-013b-437f-bbcf-bf6f9c8272e8",
   "metadata": {},
   "source": [
    "### Inicio y finalización de fase de Transformación"
   ]
  },
  {
   "cell_type": "code",
   "execution_count": 11,
   "id": "43b6e78b-6eb8-48f0-95a2-58404510c37b",
   "metadata": {},
   "outputs": [],
   "source": [
    "log(\"Fase de transformación iniciada\")\n",
    "transformed_data = transform(extracted_data)\n",
    "log(\"Fase de transformación finalizada\")"
   ]
  },
  {
   "cell_type": "markdown",
   "id": "9d2b2dca-415b-4337-ba14-ac9192f5db48",
   "metadata": {},
   "source": [
    "### Inicio y finalización de fase de Carga"
   ]
  },
  {
   "cell_type": "code",
   "execution_count": 12,
   "id": "1511ac74-8231-43cd-8e42-15faf330dad4",
   "metadata": {},
   "outputs": [],
   "source": [
    "log(\"Fase de carga iniciada\")\n",
    "load(targetfile,transformed_data)\n",
    "log(\"Fase de carga finalizada\")"
   ]
  },
  {
   "cell_type": "markdown",
   "id": "31aec50c-4c59-44ac-9477-5fbb9c36f0d2",
   "metadata": {},
   "source": [
    "### Finalización de ciclo ETL"
   ]
  },
  {
   "cell_type": "code",
   "execution_count": 13,
   "id": "c4718a4c-e49f-483e-8c67-1da45572f609",
   "metadata": {},
   "outputs": [],
   "source": [
    "log(\"Trabajo ETL finalizado\")"
   ]
  },
  {
   "cell_type": "code",
   "execution_count": null,
   "id": "0a11e6aa-da13-4744-9c54-b8bd49a56c4d",
   "metadata": {},
   "outputs": [],
   "source": []
  }
 ],
 "metadata": {
  "kernelspec": {
   "display_name": "Python 3",
   "language": "python",
   "name": "python3"
  },
  "language_info": {
   "codemirror_mode": {
    "name": "ipython",
    "version": 3
   },
   "file_extension": ".py",
   "mimetype": "text/x-python",
   "name": "python",
   "nbconvert_exporter": "python",
   "pygments_lexer": "ipython3",
   "version": "3.7.8"
  }
 },
 "nbformat": 4,
 "nbformat_minor": 5
}
